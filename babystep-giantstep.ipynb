{
 "cells": [
  {
   "cell_type": "code",
   "execution_count": 2,
   "metadata": {},
   "outputs": [],
   "source": [
    "import numpy as np\n",
    "import math \n",
    "import gmpy2"
   ]
  },
  {
   "cell_type": "code",
   "execution_count": 3,
   "metadata": {},
   "outputs": [],
   "source": [
    "def check_answer(x, alpha, beta, g):\n",
    "    b = int(gmpy2.powmod(alpha,x,g))\n",
    "    if b == beta:\n",
    "        print(\"right\")\n",
    "    else: \n",
    "        print(\"wrong\")"
   ]
  },
  {
   "cell_type": "code",
   "execution_count": 4,
   "metadata": {},
   "outputs": [],
   "source": [
    "def babystep_giantstep(g, alpha, beta, n):\n",
    "    m = int(math.sqrt(n)) + 1\n",
    "    b = gmpy2.powmod(alpha, m, g)\n",
    "    print(\"m=\", m)\n",
    "    print(\"b=\", b)\n",
    "    table_u = [int(gmpy2.powmod(b,u,g)) for u in range(1,m+1)]\n",
    "    table_v = [int(gmpy2.f_mod(beta*gmpy2.powmod(alpha,v,g), g)) for v in range(1, m+1)]\n",
    "    print(\"table_u=\", table_u)\n",
    "    print(\"table_v=\", table_v)\n",
    "    same_el = list(set(table_u).intersection(table_v))\n",
    "    print(\"same_el=\", same_el)\n",
    "    u = table_u.index(same_el[0]) + 1\n",
    "    v = table_v.index(same_el[0]) + 1\n",
    "    x = m*u - v\n",
    "    print(\"u*=\", u)\n",
    "    print(\"v*=\", v)\n",
    "    return x"
   ]
  },
  {
   "cell_type": "code",
   "execution_count": 9,
   "metadata": {},
   "outputs": [
    {
     "name": "stdout",
     "output_type": "stream",
     "text": [
      "m= 14\n",
      "b= 154\n",
      "table_u= [154, 5, 46, 25, 49, 125, 64, 82, 139, 48, 152, 59, 36, 114]\n",
      "table_v= [114, 141, 122, 8, 48, 107, 99, 51, 125, 26, 156, 31, 5, 30]\n",
      "same_el= [48, 114, 5, 125]\n",
      "u*= 10\n",
      "v*= 5\n",
      "----ANSWER----\n",
      "x = 135\n",
      "right\n"
     ]
    }
   ],
   "source": [
    "g = 181\n",
    "alpha = 6\n",
    "beta = 19\n",
    "n = 180\n",
    "x = babystep_giantstep(g, alpha, beta, n)\n",
    "print(\"----ANSWER----\")\n",
    "print(\"x =\", x)\n",
    "check_answer(x, alpha, beta, g)"
   ]
  },
  {
   "cell_type": "code",
   "execution_count": null,
   "metadata": {},
   "outputs": [],
   "source": []
  }
 ],
 "metadata": {
  "kernelspec": {
   "display_name": "Python 3",
   "language": "python",
   "name": "python3"
  },
  "language_info": {
   "codemirror_mode": {
    "name": "ipython",
    "version": 3
   },
   "file_extension": ".py",
   "mimetype": "text/x-python",
   "name": "python",
   "nbconvert_exporter": "python",
   "pygments_lexer": "ipython3",
   "version": "3.8.3"
  }
 },
 "nbformat": 4,
 "nbformat_minor": 4
}
