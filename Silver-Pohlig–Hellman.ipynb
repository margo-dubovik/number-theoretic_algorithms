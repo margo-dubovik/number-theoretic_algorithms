{
 "cells": [
  {
   "cell_type": "code",
   "execution_count": 2,
   "metadata": {},
   "outputs": [],
   "source": [
    "import numpy as np\n",
    "import math \n",
    "import gmpy2"
   ]
  },
  {
   "cell_type": "code",
   "execution_count": 3,
   "metadata": {},
   "outputs": [],
   "source": [
    "def factors(n): #step 1: prime factorization\n",
    "    primfact = []\n",
    "    if n < 0 : \n",
    "        primfact.append(-1)\n",
    "        n = -1 * n\n",
    "    d = 2\n",
    "    while d*d <= n:\n",
    "        while (n % d) == 0:\n",
    "            primfact.append(d)  \n",
    "            n //= d\n",
    "        d += 1\n",
    "    if n > 1:\n",
    "        primfact.append(n)\n",
    "    return primfact\n",
    "\n",
    "def gen_base(g, alpha, n, p): #step 2: making base from p_i & l_i\n",
    "    r = []\n",
    "    for p_i in p:\n",
    "        r_i = [int(gmpy2.powmod(alpha,int((n*j)/p_i),g)) for j in range(p_i)]\n",
    "        r.append(r_i)    \n",
    "    return r\n",
    "\n",
    "def find_x_i(p, n, g, r, l, alpha, beta): #step 3: findinx x_i for each p_i\n",
    "    x = []\n",
    "    for i in range(len(p)):\n",
    "        x_i = []\n",
    "        b = int(gmpy2.powmod(beta, int(n/p[i]), g))\n",
    "        x_0 = r[i].index(b)\n",
    "        x_i.append(x_0)\n",
    "        for j in range(1, l[i]):\n",
    "            power = 0\n",
    "            for k in range(len(x_i)):\n",
    "                power -= x_i[k]*(p[i]**k)\n",
    "            a = int(gmpy2.powmod(alpha, power, g))\n",
    "            b = int(gmpy2.powmod(beta*a, int(n/(p[i]**(j+1))), g))\n",
    "            x_new = r[i].index(b)\n",
    "            x_i.append(x_new)\n",
    "        x.append(x_i)\n",
    "    return x\n",
    "\n",
    "def find_x_val(x_i_s, p, l):#step3: making a system by finding x = x_0 + x_1*p_i + x_2*p_i^2 + ...(mod p_i ^ l_i)\n",
    "    x_vals = []\n",
    "    x_mods = []\n",
    "    for i in range(len(p)):\n",
    "        val = 0\n",
    "        for j in range(l[i]):\n",
    "            val += x_i_s[i][j] * (p[i] ** j)\n",
    "        x_vals.append(val)\n",
    "        x_mods. append(p[i]**l[i])\n",
    "    x_system = [x_vals, x_mods]\n",
    "    return x_system\n",
    "\n",
    "def solve_system(x_system, n): #step 4: solve system of linear congruences\n",
    "    x_vals, m = x_system\n",
    "    M = np.prod(m)\n",
    "    M_i = [int(M/m_i) for m_i in m]\n",
    "    N_i = [int(gmpy2.invert(M_i[i], m[i])) for i in range(len(m))]\n",
    "    x = 0\n",
    "    for j in range(len(M_i)):\n",
    "        x += N_i[j]*M_i[j]*x_vals[j]\n",
    "    x_0 = x % n\n",
    "    return x_0\n",
    "\n",
    "def check_answer(x, alpha, beta, g):\n",
    "    b = int(gmpy2.powmod(alpha,x,g))\n",
    "    if b == beta:\n",
    "        print(\"right\")\n",
    "    else: \n",
    "        print(\"wrong\")"
   ]
  },
  {
   "cell_type": "code",
   "execution_count": 4,
   "metadata": {},
   "outputs": [],
   "source": [
    "def silver_pohlig_hellman(g, n, alpha, beta):\n",
    "    fact = factors(n)\n",
    "    p = list(set(fact))\n",
    "    l = [fact.count(p_i) for p_i in p]\n",
    "    print(\"p=\", p)\n",
    "    print(\"l=\", l)\n",
    "    r = gen_base(g, alpha, n, p)\n",
    "    print(\"r=\", r)\n",
    "    x_i_s = find_x_i(p, n, g, r, l, alpha, beta)\n",
    "    print(\"x_i_s=\", x_i_s)\n",
    "    x_system = find_x_val(x_i_s, p, l) #our system to solve: x = value mod p_i ^ l_i\n",
    "    print(\"system: [values, mods] =\", x_system) \n",
    "    x_0 = solve_system(x_system, n)\n",
    "    return x_0"
   ]
  },
  {
   "cell_type": "code",
   "execution_count": 5,
   "metadata": {},
   "outputs": [
    {
     "name": "stdout",
     "output_type": "stream",
     "text": [
      "p= [2, 3, 23]\n",
      "l= [1, 3, 1]\n",
      "r= [[1, 17388], [1, 13746, 3642], [1, 11832, 14774, 11740, 4348, 8874, 2386, 8805, 3261, 15350, 10484, 10951, 6793, 2818, 7863, 3866, 9442, 10808, 1550, 11594, 15776, 8106, 9857]]\n",
      "x_i_s= [[1], [1, 2, 2], [9]]\n",
      "system: [values, mods] = [[1, 25, 9], [2, 27, 23]]\n",
      "----ANSWER----\n",
      "x = 1159\n",
      "right\n"
     ]
    }
   ],
   "source": [
    "alpha, beta, g, n = 9704, 13896, 17389, 1242  # тут взяли (n = ord(alpha))\n",
    "# alpha, beta, g, n = 6, 13, 229, 228\n",
    "# alpha, beta, g, n = 3, 148, 181, 180\n",
    "# alpha, beta, g, n = 3, 15, 43, 42 \n",
    "# alpha, beta, g, n = 5, 11, 73, 72 \n",
    "\n",
    "x = silver_pohlig_hellman(g, n, alpha, beta)\n",
    "print(\"----ANSWER----\")\n",
    "print(\"x =\", x)\n",
    "check_answer(x, alpha, beta, g)"
   ]
  },
  {
   "cell_type": "code",
   "execution_count": null,
   "metadata": {},
   "outputs": [],
   "source": []
  }
 ],
 "metadata": {
  "kernelspec": {
   "display_name": "Python 3",
   "language": "python",
   "name": "python3"
  },
  "language_info": {
   "codemirror_mode": {
    "name": "ipython",
    "version": 3
   },
   "file_extension": ".py",
   "mimetype": "text/x-python",
   "name": "python",
   "nbconvert_exporter": "python",
   "pygments_lexer": "ipython3",
   "version": "3.8.3"
  }
 },
 "nbformat": 4,
 "nbformat_minor": 4
}
