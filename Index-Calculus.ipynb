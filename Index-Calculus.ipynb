{
 "cells": [
  {
   "cell_type": "code",
   "execution_count": 1,
   "metadata": {},
   "outputs": [],
   "source": [
    "import numpy as np\n",
    "import math \n",
    "import random\n",
    "from itertools import combinations\n",
    "import gmpy2"
   ]
  },
  {
   "cell_type": "code",
   "execution_count": 2,
   "metadata": {},
   "outputs": [],
   "source": [
    "def check_answer(x, alpha, beta, g):\n",
    "    b = int(gmpy2.powmod(alpha,x,g))\n",
    "    if b == beta:\n",
    "        print(\"right\")\n",
    "    else: \n",
    "        print(\"wrong\")"
   ]
  },
  {
   "cell_type": "code",
   "execution_count": 3,
   "metadata": {},
   "outputs": [],
   "source": [
    "def factors(n): #prime factorization\n",
    "    primfact = []\n",
    "    if n < 0 : \n",
    "        primfact.append(-1)\n",
    "        n = -1 * n\n",
    "    d = 2\n",
    "    while d*d <= n:\n",
    "        while (n % d) == 0:\n",
    "            primfact.append(d)  \n",
    "            n //= d\n",
    "        d += 1\n",
    "    if n > 1:\n",
    "        primfact.append(n)\n",
    "    return primfact\n",
    "\n",
    "def gen_primes(N): #генерує прості числа в інтервалі від 2 до N\n",
    "    primes = []\n",
    "    for num in range(2,N + 1):  \n",
    "        isprime = True\n",
    "        if num > 1:  \n",
    "            for i in range(2,num):  \n",
    "                if (num % i) == 0:  \n",
    "                    isprime = False\n",
    "                    break  \n",
    "        if isprime == True:\n",
    "            primes.append(num)\n",
    "    return primes\n",
    "\n",
    "def gen_base(n, B):\n",
    "    Base = [2]\n",
    "    primes = gen_primes(B) #генеруємо прості числа від 2 до N\n",
    "    for el in primes[1:]:\n",
    "        Base.append(el)\n",
    "    return Base"
   ]
  },
  {
   "cell_type": "code",
   "execution_count": 4,
   "metadata": {},
   "outputs": [],
   "source": [
    "def make_equation(fact, S):\n",
    "    eq =[fact.count(p_i) for p_i in S]\n",
    "    return eq      \n",
    "\n",
    "def display(lst):\n",
    "    for i in lst:\n",
    "        print(i)"
   ]
  },
  {
   "cell_type": "code",
   "execution_count": 5,
   "metadata": {},
   "outputs": [],
   "source": [
    "def index_calculus(g, n, alpha, beta, S, c):\n",
    "    equations = []\n",
    "    answers = []\n",
    "    t = len(S)\n",
    "    for counter in range(1, t+c):\n",
    "        k = random.randint(0, n-1)\n",
    "        print(\"k=\", k)\n",
    "        al_k = int(gmpy2.powmod(alpha, k, g))\n",
    "        print(\"al_k=\", al_k)\n",
    "        fact = factors(al_k)\n",
    "        print(\"fact=\", fact)\n",
    "        if not all(el in S for el in fact): #check if factors are already in Base\n",
    "            continue\n",
    "        new_eq = make_equation(fact, S)\n",
    "        print(\"new_eq=\", new_eq)\n",
    "        equations.append(new_eq)\n",
    "        answers.append(k)\n",
    "    print(\"equations:\")\n",
    "    display(equations)\n",
    "    print(\"answers:\",answers)\n",
    "    print(\"\\n step 4\")\n",
    "    for counter in range(1, t+c):\n",
    "        k = random.randint(0, n-1)\n",
    "        print(\"k=\", k)\n",
    "        al_k = int(gmpy2.powmod(alpha, k, g))\n",
    "        b = int(gmpy2.f_mod(beta * al_k, g))\n",
    "        print(\"b=\", b)\n",
    "        fact = factors(b)\n",
    "        print(\"fact=\", fact)\n",
    "        if not all(el in S for el in fact): #check if factors are already in Base\n",
    "            continue\n",
    "        b_eq = make_equation(fact, S)\n",
    "        print(\"b_eq=\", b_eq)\n",
    "    return equations, answers"
   ]
  },
  {
   "cell_type": "code",
   "execution_count": 6,
   "metadata": {},
   "outputs": [
    {
     "name": "stdout",
     "output_type": "stream",
     "text": [
      "k= 1\n",
      "al_k= 2\n",
      "fact= [2]\n",
      "new_eq= [1, 0, 0, 0]\n",
      "k= 26\n",
      "al_k= 3\n",
      "fact= [3]\n",
      "new_eq= [0, 1, 0, 0]\n",
      "k= 13\n",
      "al_k= 15\n",
      "fact= [3, 5]\n",
      "new_eq= [0, 1, 1, 0]\n",
      "k= 16\n",
      "al_k= 9\n",
      "fact= [3, 3]\n",
      "new_eq= [0, 2, 0, 0]\n",
      "k= 34\n",
      "al_k= 28\n",
      "fact= [2, 2, 7]\n",
      "new_eq= [2, 0, 0, 1]\n",
      "k= 24\n",
      "al_k= 10\n",
      "fact= [2, 5]\n",
      "new_eq= [1, 0, 1, 0]\n",
      "k= 19\n",
      "al_k= 35\n",
      "fact= [5, 7]\n",
      "new_eq= [0, 0, 1, 1]\n",
      "k= 8\n",
      "al_k= 34\n",
      "fact= [2, 17]\n",
      "equations:\n",
      "[1, 0, 0, 0]\n",
      "[0, 1, 0, 0]\n",
      "[0, 1, 1, 0]\n",
      "[0, 2, 0, 0]\n",
      "[2, 0, 0, 1]\n",
      "[1, 0, 1, 0]\n",
      "[0, 0, 1, 1]\n",
      "answers: [1, 26, 13, 16, 34, 24, 19]\n",
      "\n",
      " step 4\n",
      "k= 0\n",
      "b= 13\n",
      "fact= [13]\n",
      "k= 21\n",
      "b= 7\n",
      "fact= [7]\n",
      "b_eq= [0, 0, 0, 1]\n",
      "k= 35\n",
      "b= 25\n",
      "fact= [5, 5]\n",
      "b_eq= [0, 0, 2, 0]\n",
      "k= 26\n",
      "b= 2\n",
      "fact= [2]\n",
      "b_eq= [1, 0, 0, 0]\n",
      "k= 29\n",
      "b= 16\n",
      "fact= [2, 2, 2, 2]\n",
      "b_eq= [4, 0, 0, 0]\n",
      "k= 4\n",
      "b= 23\n",
      "fact= [23]\n",
      "k= 29\n",
      "b= 16\n",
      "fact= [2, 2, 2, 2]\n",
      "b_eq= [4, 0, 0, 0]\n",
      "k= 20\n",
      "b= 22\n",
      "fact= [2, 11]\n"
     ]
    }
   ],
   "source": [
    "g, n, alpha,beta = 37, 36, 2, 13\n",
    "S = [2,3,5,7]\n",
    "c = 5\n",
    "eq, ans = index_calculus(g, n, alpha, beta, S, c)\n"
   ]
  },
  {
   "cell_type": "code",
   "execution_count": 7,
   "metadata": {},
   "outputs": [
    {
     "name": "stdout",
     "output_type": "stream",
     "text": [
      "right\n"
     ]
    }
   ],
   "source": [
    "g, n, alpha,beta = 37, 36, 2, 13\n",
    "x = 11\n",
    "check_answer(x, alpha, beta, g)"
   ]
  },
  {
   "cell_type": "code",
   "execution_count": null,
   "metadata": {},
   "outputs": [],
   "source": []
  }
 ],
 "metadata": {
  "kernelspec": {
   "display_name": "Python 3",
   "language": "python",
   "name": "python3"
  },
  "language_info": {
   "codemirror_mode": {
    "name": "ipython",
    "version": 3
   },
   "file_extension": ".py",
   "mimetype": "text/x-python",
   "name": "python",
   "nbconvert_exporter": "python",
   "pygments_lexer": "ipython3",
   "version": "3.8.3"
  }
 },
 "nbformat": 4,
 "nbformat_minor": 4
}
